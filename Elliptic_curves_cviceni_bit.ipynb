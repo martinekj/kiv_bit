{
  "nbformat": 4,
  "nbformat_minor": 0,
  "metadata": {
    "colab": {
      "provenance": [],
      "authorship_tag": "ABX9TyMTGC6oyqTtb6DJzys8hp6j",
      "include_colab_link": true
    },
    "kernelspec": {
      "name": "python3",
      "display_name": "Python 3"
    },
    "language_info": {
      "name": "python"
    }
  },
  "cells": [
    {
      "cell_type": "markdown",
      "metadata": {
        "id": "view-in-github",
        "colab_type": "text"
      },
      "source": [
        "<a href=\"https://colab.research.google.com/github/martinekj/kiv_bit/blob/main/Elliptic_curves_cviceni_bit.ipynb\" target=\"_parent\"><img src=\"https://colab.research.google.com/assets/colab-badge.svg\" alt=\"Open In Colab\"/></a>"
      ]
    },
    {
      "cell_type": "markdown",
      "source": [
        "\n",
        "\n",
        "```\n",
        "# Toto je naformátováno jako kód\n",
        "```\n",
        "\n",
        "# Cvičení Eliptické křivky\n",
        "Cílem cvičení je prakticky si vyzkoušet generování soukromého a veřejného klíče a kryptografického algoritmu založeného na eliptických křivkách v konečném tělese.\n",
        "\n",
        "Začneme tím, že si importujeme knihovny, které budeme potřebovat."
      ],
      "metadata": {
        "id": "OKbKD26oZyN-"
      }
    },
    {
      "cell_type": "code",
      "execution_count": null,
      "metadata": {
        "id": "atnzt1TGN_32"
      },
      "outputs": [],
      "source": [
        "import math\n",
        "import numpy as np\n",
        "import matplotlib.pyplot as plt\n",
        "import seaborn as sns\n",
        "\n"
      ]
    },
    {
      "cell_type": "markdown",
      "source": [
        "Začneme s jednoduchým příkladem a zvolíme si následující parametry eliptické křivky nad následujícím tělesem $Z_p$:\n",
        "\n",
        "$a = 1, b = 1, p = 97$\n",
        "\n",
        "$y^2 = x^3 + x + 1$\n",
        "\n",
        "kde kde $a,b∈Z_p$ a $D = 4a^3 + 27b^2$ != $0$\n",
        "\n",
        "Vyzkoušíme si nyní implementovat dvě následující funkce:\n",
        "\n",
        "\n",
        "\n",
        "1) Doplňte funkci\n",
        "```\n",
        "is_point_on_curve(P, a, b, p) -> bool\n",
        "```\n",
        "která ověří zda bod P, zadaný jako parametr leží na křivce definované ostatními parametry. Vyzkoušejte pro bod $P = (14, 25)$\n",
        "\n",
        "2) Doplňte funkci\n",
        "```\n",
        "brute_force_generation(p) -> list\n",
        "```\n",
        "která vygeneruje všechny body (tj. uspořádané dvojice $\\rightarrow$ kartézský součin), které existují na tělese $Z_p$, kde *p* je předáno jako parametr. Funkce vrátí seznam bodů. Vyzkoušejte pro $p = 97$"
      ],
      "metadata": {
        "id": "ZwssbgFBHccm"
      }
    },
    {
      "cell_type": "code",
      "source": [
        "def brute_force_generation(p) -> list:\n",
        "    \"\"\"\n",
        "    This function generates all possible points that might lie on the curve\n",
        "    :param a: parameter of the ec\n",
        "    :param b: second parameter of the ec\n",
        "    :param p: mod\n",
        "    :return: List: list of all possible pairs\n",
        "    \"\"\"\n",
        "    possible_x_values = np.arange(0, p)\n",
        "    possible_y_values = np.arange(0, p)\n",
        "    all_possible_pairs = []\n",
        "    # cartesian product\n",
        "    for i in range(0, len(possible_x_values)):\n",
        "        for j in range(0, len(possible_y_values)):\n",
        "            point = (possible_x_values[i], possible_y_values[j])\n",
        "            all_possible_pairs.append(point)\n",
        "    print(f\"All ordered pairs: {len(all_possible_pairs)}\")\n",
        "    return all_possible_pairs\n",
        "\n",
        "\n",
        "\n",
        "def is_point_on_curve(P, a, b, p) -> bool:\n",
        "    \"\"\"\n",
        "    This function determines if the point P given as param \"lies\" on elliptic curve defined by parameters a and b\n",
        "    :param P: point (tuple)\n",
        "    :param a: parameter of the ec\n",
        "    :param b: second parameter of the ec\n",
        "    :param p: mod\n",
        "    :return: True if P lies on the ec\n",
        "    \"\"\"\n",
        "\n",
        "    # equation = y2 (mod p) = x3 + ax + b (mod p)\n",
        "    x = P[0]\n",
        "    y = P[1]\n",
        "    left_side = (y ** 2) % p\n",
        "    right_side = ((x ** 3) + (a * x) + b) % p\n",
        "    if left_side == right_side:\n",
        "        return True\n",
        "    else:\n",
        "        return False\n",
        "\n",
        "a = 1\n",
        "b = 1\n",
        "p = 97\n",
        "P = (14, 25)\n",
        "P_OK = is_point_on_curve(P, a, b, p)\n",
        "if P_OK:\n",
        "  print(f\"Bod P={P} leží na křivce\")\n",
        "else:\n",
        "  print(f\"Bod P={P} neleží na křivce\")"
      ],
      "metadata": {
        "colab": {
          "base_uri": "https://localhost:8080/"
        },
        "id": "93gQaf4zLhG6",
        "outputId": "d59d2921-c7d7-40bd-ebb3-9110a3549dc7"
      },
      "execution_count": null,
      "outputs": [
        {
          "output_type": "stream",
          "name": "stdout",
          "text": [
            "Bod P=(14, 25) leží na křivce\n"
          ]
        }
      ]
    },
    {
      "cell_type": "markdown",
      "source": [
        "Vytvoříme nyní funkci, která vygeneruje všechny body, které připadají v úvahu (tj. leží na výše definované křivce) a body si vykreslíme. Z matematického hlediska množina těchto bodů (společně s bodem $∞$) tvoří grupu $E(Z_p)$."
      ],
      "metadata": {
        "id": "ZdKaAWCINi1w"
      }
    },
    {
      "cell_type": "code",
      "source": [
        "def generate_points_on_curve(a, b, p) -> list:\n",
        "    \"\"\"\n",
        "    This function generates all relevant points on the curve defined by parameters a and b\n",
        "    :param a: parameter of the ec\n",
        "    :param b: second parameter of the ec\n",
        "    :param p: mod\n",
        "    :return: List: list of relevant points\n",
        "    \"\"\"\n",
        "    # get all possible points\n",
        "    all_points = brute_force_generation(p)\n",
        "    # let's use naive approach to filter out/discard the numbers that do not satisfy the equation\n",
        "    relevant_points = []\n",
        "    for point in all_points:\n",
        "        if is_point_on_curve(point, a, b, p):\n",
        "            relevant_points.append(point)\n",
        "    # add also math.inf since it is a point as well\n",
        "    relevant_points.append((math.inf, math.inf))\n",
        "    return relevant_points\n",
        "\n",
        "all_relevant_points = generate_points_on_curve(a, b, p)\n",
        "grup_size = len(all_relevant_points)\n",
        "print(f\"Grupa E(Z{p}) má {grup_size} prvků\")\n",
        "\n",
        "x_coords = []\n",
        "y_coords = []\n",
        "for point in all_relevant_points:\n",
        "    x_coords.append(point[0])\n",
        "    y_coords.append(point[1])\n",
        "\n",
        "elliptic_curve_data = {\n",
        "    \"x\": x_coords,\n",
        "    \"y\": y_coords\n",
        "}\n",
        "\n",
        "ax = sns.scatterplot(data=elliptic_curve_data, x=\"x\", y=\"y\")\n",
        "plt.grid()\n",
        "plt.title(f\"Points of EC with parameters a={a} and b={b}\")\n",
        "# plt.savefig(\"elliptic_curve_all_points.png\")\n",
        "\n"
      ],
      "metadata": {
        "colab": {
          "base_uri": "https://localhost:8080/",
          "height": 524
        },
        "id": "ft6nrAlmOa_7",
        "outputId": "856afe03-7822-4290-b13e-7892ed14f7bc"
      },
      "execution_count": null,
      "outputs": [
        {
          "output_type": "stream",
          "name": "stdout",
          "text": [
            "All ordered pairs: 9409\n",
            "Grupa E(Z97) má 97 prvků\n"
          ]
        },
        {
          "output_type": "execute_result",
          "data": {
            "text/plain": [
              "Text(0.5, 1.0, 'Points of EC with parameters a=1 and b=1')"
            ]
          },
          "metadata": {},
          "execution_count": 3
        },
        {
          "output_type": "display_data",
          "data": {
            "text/plain": [
              "<Figure size 640x480 with 1 Axes>"
            ],
            "image/png": "[encoded data removed]"
          },
          "metadata": {}
        }
      ]
    },
    {
      "cell_type": "markdown",
      "source": [
        "Nyní si implementujeme funkci provádějící operaci sčítání dvou bodů. Využijeme informace z přednášky (případně dalších zdrojů). Mějme na paměti, že nepracujeme s reálnými čísly na konečném tělese. Správnost implementace si ověříme např. zde: https://graui.de/code/elliptic2/\n"
      ],
      "metadata": {
        "id": "FQ9nwz3zPbQz"
      }
    },
    {
      "cell_type": "code",
      "source": [
        "def add_two_ec_points(P, Q, a, p):\n",
        "    \"\"\"\n",
        "    This function adds two points given as param mod p\n",
        "    :param P: first point (tuple), comprises x and y coords\n",
        "    :param Q: second point (tuple), comprises x and y coords\n",
        "    :param a: parameter of the ec\n",
        "    :param p: mod\n",
        "    :return: new point (tuple) P+Q\n",
        "    \"\"\"\n",
        "\n",
        "    Px, Py = P[0], P[1]\n",
        "    Qx, Qy = Q[0], Q[1]\n",
        "\n",
        "\n",
        "    # inverse_Py = pow(Py, -1, p)\n",
        "    if Px == Qx and Py == Qy:\n",
        "        denominator = 2 * Py\n",
        "        if denominator == 0:\n",
        "            ## dividing by zero is not defined --> there is no 0^-1 value\n",
        "            return math.inf\n",
        "        else:\n",
        "            inverse_denom = pow(denominator, -1, p)\n",
        "            # adding two same points\n",
        "            # s = (3x2p + a) / (2yp) --> slope\n",
        "            # Xr = s2 – 2xp\n",
        "            # Yr = s(xp - xr) - yp\n",
        "            s = ((3 * (Px ** 2) + a) * inverse_denom) % p\n",
        "            Rx = ((s ** 2) - (2 * Px)) % p\n",
        "            Ry = (s * (Px - Rx) - Py) % p\n",
        "    else:\n",
        "        # adding two different points\n",
        "        # s = (yp – yq) / (xp – xq) --> slope\n",
        "        # Xr = s2 – (xp + xq)\n",
        "        # Yr = s(xp – xr) - yp\n",
        "        denominator = Px - Qx\n",
        "        if denominator == 0:\n",
        "            ## dividing by zero is not defined --> there is no 0^-1 value\n",
        "            return math.inf\n",
        "        else:\n",
        "            inverse_denom = pow(denominator, -1, p)\n",
        "            s = ((Py - Qy) * inverse_denom) % p\n",
        "            Rx = ((s ** 2) - (Px + Qx)) % p\n",
        "            Ry = (s * (Px - Rx) - Py) % p\n",
        "\n",
        "    return Rx, Ry\n"
      ],
      "metadata": {
        "id": "xMxEmq28QkBg"
      },
      "execution_count": null,
      "outputs": []
    },
    {
      "cell_type": "markdown",
      "source": [
        "Máme-li grupu spolu s definovaným sčítáním, můžeme si demonstrovat generování veřejného a soukromého klíče pro použití v kryptografii. Máme daný předpis pro eliptickou křivku: $y^2 = x^3 + x + 1$\n",
        "\n",
        "$a = 1, b = 1, p = 97$\n",
        "\n",
        "Alice zvolí veřejný klíč: tzv. **generátor** $G$, tzn. výchozí bod, který se použije pro vygenerování (cyklické) podgrupy. Každá podgrupa má svůj řád (*order*), značíme $n$. Snažíme se o to, aby řád byl co nejvyšší, ideálně roven počtu bodů grupy (označme např. $r$). K tomu slouží parametr $h$, tzv. *coffactor*, který je definován jako podíl: $h = \\frac{n}{r}$. Je-li tento podíl roven 1 máme ideální situaci.\n",
        "\n",
        "Pro příklad zvolme jako generátor náš bod $P$: $G = (14, 25)$\n",
        "\n",
        "V následujícím fragmentu kódu vygenerujeme podgrupu. Využijeme k tomu funkci pro součet dvou bodů. Nesmíme zapomenout přidat ještě bod nekonečno. Vypíšeme si následně řád podgrupy na základě bodu $G$ a podgrupu si vykreslíme."
      ],
      "metadata": {
        "id": "msPanasdQ2s9"
      }
    },
    {
      "cell_type": "code",
      "source": [
        "generator_point = P\n",
        "\n",
        "subgroup_points_x_coords = []\n",
        "subgroup_points_y_coords = []\n",
        "R = generator_point\n",
        "# append generator as the first point\n",
        "subgroup_points_x_coords.append(generator_point[0])\n",
        "subgroup_points_y_coords.append(generator_point[1])\n",
        "\n",
        "# generate the subgroup\n",
        "while R is not math.inf:\n",
        "    newR = add_two_ec_points(P=R, Q=generator_point, a=a, p=p)\n",
        "    if newR == math.inf:\n",
        "        subgroup_points_x_coords.append(math.inf)\n",
        "        subgroup_points_y_coords.append(math.inf)\n",
        "        break\n",
        "    subgroup_points_x_coords.append(newR[0])\n",
        "    subgroup_points_y_coords.append(newR[1])\n",
        "    R = newR\n",
        "\n",
        "order_of_G = len(subgroup_points_x_coords)\n",
        "print(f\"The order of G = {order_of_G}\")\n",
        "\n",
        "elliptic_curve_subgroup_data = {\n",
        "    \"x\": subgroup_points_x_coords,\n",
        "    \"y\": subgroup_points_y_coords\n",
        "}\n",
        "\n",
        "print(elliptic_curve_subgroup_data[\"x\"])\n",
        "print(elliptic_curve_subgroup_data[\"y\"])\n",
        "\n",
        "# we must include math.inf to have a complete set of points\n",
        "if order_of_G == len(elliptic_curve_data['x']):\n",
        "    print(f\"Ideal situation --> the coffactor h = 1\")\n",
        "else:\n",
        "    print(f\"The coffactor h = {order_of_G / len(elliptic_curve_data['x'])}\")\n",
        "\n",
        "ax = sns.scatterplot(data=elliptic_curve_data, x=\"x\", y=\"y\")\n",
        "ax = sns.scatterplot(data=elliptic_curve_subgroup_data, x=\"x\", y=\"y\")\n",
        "plt.grid()\n",
        "plt.title(f\"Points of a subgroup generated by\\n Generator point {generator_point} and\\n EC with parameters {a} and {b}\")"
      ],
      "metadata": {
        "colab": {
          "base_uri": "https://localhost:8080/",
          "height": 620
        },
        "id": "EuxRKeAQV4Vr",
        "outputId": "e26c5a72-28c9-4088-df07-63a805509aa9"
      },
      "execution_count": null,
      "outputs": [
        {
          "output_type": "stream",
          "name": "stdout",
          "text": [
            "The order of G = 97\n",
            "[14, 80, 0, 33, 1, 73, 95, 23, 72, 64, 31, 50, 8, 2, 82, 3, 68, 18, 47, 30, 75, 19, 17, 22, 70, 48, 71, 77, 92, 91, 24, 41, 15, 76, 38, 29, 43, 84, 74, 36, 56, 45, 34, 53, 96, 52, 62, 54, 54, 62, 52, 96, 53, 34, 45, 56, 36, 74, 84, 43, 29, 38, 76, 15, 41, 24, 91, 92, 77, 71, 48, 70, 22, 17, 19, 75, 30, 47, 18, 68, 3, 82, 2, 8, 50, 31, 64, 72, 23, 95, 73, 1, 33, 0, 80, 14, inf]\n",
            "[25, 55, 96, 9, 10, 86, 31, 39, 68, 55, 23, 42, 91, 37, 43, 15, 67, 15, 9, 68, 96, 63, 88, 1, 46, 35, 21, 56, 29, 78, 50, 53, 53, 82, 3, 13, 37, 33, 79, 91, 43, 31, 65, 91, 75, 37, 16, 31, 66, 81, 60, 22, 6, 32, 66, 54, 6, 18, 64, 60, 84, 94, 15, 44, 44, 47, 19, 68, 41, 76, 62, 51, 96, 9, 34, 1, 29, 88, 82, 30, 82, 54, 60, 6, 55, 74, 42, 29, 58, 66, 11, 87, 88, 1, 42, 72, inf]\n",
            "Ideal situation --> the coffactor h = 1\n"
          ]
        },
        {
          "output_type": "execute_result",
          "data": {
            "text/plain": [
              "Text(0.5, 1.0, 'Points of a subgroup generated by\\n Generator point (14, 25) and\\n EC with parameters 1 and 1')"
            ]
          },
          "metadata": {},
          "execution_count": 13
        },
        {
          "output_type": "display_data",
          "data": {
            "text/plain": [
              "<Figure size 640x480 with 1 Axes>"
            ],
            "image/png": "[encoded data removed]"
          },
          "metadata": {}
        }
      ]
    },
    {
      "cell_type": "markdown",
      "source": [
        "# K zamyšlení\n",
        "Zkuste si zvolit jiný generátor a vygenerujte si další podgrupy. Jaký mají řád a cofactor? Jsou stejné nebo jiné? Ujistěte se, že dokážete vysvětlit proč. Proč se snažíme o to, aby řád byl co největší?\n",
        "\n",
        "# Soukromý klíč\n",
        "Alice si tedy vygenerovala veřejnou část klíče. Nyní si zvolí klíč soukromý, tzn. číslo $x∈Z_p$. Tento soukromý klíč určuje právě jeden bod $A$ ve vygenerované podgrupě $→ A = xG$\n",
        "\n",
        "# Diffie-Hellman\n",
        "Využijeme-li příkladu Diffie-Hellmanovy domluvy klíče v rámci eliptických křivek, pak Alice nasdílí Bobovi všechny parametry, kromě svého soukromého klíče $x$.\n",
        "\n",
        "Bob použije nasdílené parametry a informace a zvolí si svůj soukromý klíč $y∈Z_p$. Stejným způsobem s vypočte bod $B$, který pak pošle Alici.\n",
        "\n",
        "Aby oba dosáhli sdíleného klíče (v kontextu eliptických křivek společného bodu na křivce) musí oba udělat následující operace:\n",
        "\n",
        "1) Alice spočte bod $S_B = xB$\n",
        "\n",
        "2) Bob spočte bod $S_A = yA$\n",
        "\n",
        "Tím pádem mají oba \"došli\" do společného bodu (označme $S$), protože platí následující:\n",
        "\n",
        "$S = S_A = S_B = xyG$\n",
        "\n",
        "Máme tedy sdílený/společný tajný klíč, bez toho aniž by oba znali svůj soukromý klíč (x nebo y).\n",
        "\n",
        "Toto si nyní naprogramujeme a ověříme.\n"
      ],
      "metadata": {
        "id": "v12QkZQ_X18r"
      }
    },
    {
      "cell_type": "code",
      "source": [
        "generator = (14, 25)\n",
        "a = 1\n",
        "b = 1\n",
        "p = 97\n",
        "\n",
        "# Alice private key:\n",
        "x = 13\n",
        "\n",
        "# Bob's private key:\n",
        "y = 94\n",
        "\n",
        "# Alice's part\n",
        "tmpPoint = generator\n",
        "for i in range(0, x):\n",
        "  tmpPoint = add_two_ec_points(generator, tmpPoint, a, p)\n",
        "\n",
        "pointAlice = tmpPoint\n",
        "print(f\"Point Alice: {pointAlice}\")\n",
        "\n",
        "# Bob's part\n",
        "tmpPoint = generator\n",
        "for i in range(0, y):\n",
        "  tmpPoint = add_two_ec_points(generator, tmpPoint, a, p)\n",
        "\n",
        "pointBob = tmpPoint\n",
        "print(f\"Point Bob: {pointBob}\")\n",
        "\n",
        "# shared key computation\n",
        "# Alice's part\n",
        "tmpPoint = pointBob\n",
        "for i in range(0, x):\n",
        "  tmpPoint = add_two_ec_points(pointBob, tmpPoint, a, p)\n",
        "S_a = tmpPoint\n",
        "\n",
        "# Bob's part\n",
        "# Alice's part\n",
        "tmpPoint = pointAlice\n",
        "for i in range(0, y):\n",
        "  tmpPoint = add_two_ec_points(pointAlice, tmpPoint, a, p)\n",
        "S_b = tmpPoint\n",
        "\n",
        "print(f\"Shared point Alice's parts {S_a}\")\n",
        "print(f\"Shared point Bob's part {S_b}\")\n",
        "assert S_a == S_b\n",
        "S = S_a\n",
        "print(\"______________________________________________________\")\n",
        "print(f\"Final shared point S = {S}\")"
      ],
      "metadata": {
        "colab": {
          "base_uri": "https://localhost:8080/"
        },
        "id": "HUy6-wKzcAIp",
        "outputId": "4a702553-1531-4ec6-d5a3-a24d58c7a237"
      },
      "execution_count": null,
      "outputs": [
        {
          "output_type": "stream",
          "name": "stdout",
          "text": [
            "Point Alice: (2, 37)\n",
            "Point Bob: (80, 42)\n",
            "Shared point Alice's parts (77, 41)\n",
            "Shared point Bob's part (77, 41)\n",
            "______________________________________________________\n",
            "Final shared point S = (77, 41)\n"
          ]
        }
      ]
    },
    {
      "cell_type": "markdown",
      "source": [
        "# Domácí cvičení\n",
        "Samostatně vyzkoušejte pro následující parametry:\n",
        "\n",
        "$a = 25, b = 3, p = 13$\n",
        "\n",
        "$y^2 = x^3 + 25x + 3$ na tělese $Z_{13}$\n",
        "\n",
        "Zkuste generovat různé podgrupy na základě různých generátorů. Liší se nějak řád různých podgrup? Zkuste odpovědět proč se liší."
      ],
      "metadata": {
        "id": "sVIMaLnSkQ6Y"
      }
    }
  ]
}